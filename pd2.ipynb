{
 "cells": [
  {
   "cell_type": "code",
   "execution_count": 1,
   "id": "46215b7e-1b7d-4379-9717-7f6a226aaab2",
   "metadata": {},
   "outputs": [],
   "source": [
    "import numpy as np\n",
    "import pandas as pd"
   ]
  },
  {
   "cell_type": "code",
   "execution_count": 4,
   "id": "3b86981e-2ecd-46c1-8190-a9cfdbeedec8",
   "metadata": {},
   "outputs": [
    {
     "data": {
      "text/plain": [
       "array([[ 8, 24, 67],\n",
       "       [87, 79, 48],\n",
       "       [10, 94, 52],\n",
       "       [98, 53, 66]])"
      ]
     },
     "execution_count": 4,
     "metadata": {},
     "output_type": "execute_result"
    }
   ],
   "source": [
    "np.random.seed(100)\n",
    "my_data = np.random.randint(0, 101, (4, 3))\n",
    "my_data"
   ]
  },
  {
   "cell_type": "code",
   "execution_count": 8,
   "id": "58002eb2-dde1-4397-8c69-9c763a878445",
   "metadata": {},
   "outputs": [
    {
     "name": "stdout",
     "output_type": "stream",
     "text": [
      "<class 'pandas.core.frame.DataFrame'>\n"
     ]
    },
    {
     "data": {
      "text/html": [
       "<div>\n",
       "<style scoped>\n",
       "    .dataframe tbody tr th:only-of-type {\n",
       "        vertical-align: middle;\n",
       "    }\n",
       "\n",
       "    .dataframe tbody tr th {\n",
       "        vertical-align: top;\n",
       "    }\n",
       "\n",
       "    .dataframe thead th {\n",
       "        text-align: right;\n",
       "    }\n",
       "</style>\n",
       "<table border=\"1\" class=\"dataframe\">\n",
       "  <thead>\n",
       "    <tr style=\"text-align: right;\">\n",
       "      <th></th>\n",
       "      <th>0</th>\n",
       "      <th>1</th>\n",
       "      <th>2</th>\n",
       "    </tr>\n",
       "  </thead>\n",
       "  <tbody>\n",
       "    <tr>\n",
       "      <th>0</th>\n",
       "      <td>8</td>\n",
       "      <td>24</td>\n",
       "      <td>67</td>\n",
       "    </tr>\n",
       "    <tr>\n",
       "      <th>1</th>\n",
       "      <td>87</td>\n",
       "      <td>79</td>\n",
       "      <td>48</td>\n",
       "    </tr>\n",
       "    <tr>\n",
       "      <th>2</th>\n",
       "      <td>10</td>\n",
       "      <td>94</td>\n",
       "      <td>52</td>\n",
       "    </tr>\n",
       "    <tr>\n",
       "      <th>3</th>\n",
       "      <td>98</td>\n",
       "      <td>53</td>\n",
       "      <td>66</td>\n",
       "    </tr>\n",
       "  </tbody>\n",
       "</table>\n",
       "</div>"
      ],
      "text/plain": [
       "    0   1   2\n",
       "0   8  24  67\n",
       "1  87  79  48\n",
       "2  10  94  52\n",
       "3  98  53  66"
      ]
     },
     "execution_count": 8,
     "metadata": {},
     "output_type": "execute_result"
    }
   ],
   "source": [
    "my_1st_data_frame = pd.DataFrame(my_data)\n",
    "print(type(my_1st_data_frame))\n",
    "my_1st_data_frame"
   ]
  },
  {
   "cell_type": "code",
   "execution_count": 10,
   "id": "ad8d99e0-9225-4a21-8ae7-ea2e4f64eb89",
   "metadata": {},
   "outputs": [
    {
     "name": "stdout",
     "output_type": "stream",
     "text": [
      "     0   1   2\n",
      "CA   8  24  67\n",
      "NY  87  79  48\n",
      "AZ  10  94  52\n",
      "TX  98  53  66\n"
     ]
    },
    {
     "data": {
      "text/html": [
       "<div>\n",
       "<style scoped>\n",
       "    .dataframe tbody tr th:only-of-type {\n",
       "        vertical-align: middle;\n",
       "    }\n",
       "\n",
       "    .dataframe tbody tr th {\n",
       "        vertical-align: top;\n",
       "    }\n",
       "\n",
       "    .dataframe thead th {\n",
       "        text-align: right;\n",
       "    }\n",
       "</style>\n",
       "<table border=\"1\" class=\"dataframe\">\n",
       "  <thead>\n",
       "    <tr style=\"text-align: right;\">\n",
       "      <th></th>\n",
       "      <th>Jan</th>\n",
       "      <th>Feb</th>\n",
       "      <th>Mar</th>\n",
       "    </tr>\n",
       "  </thead>\n",
       "  <tbody>\n",
       "    <tr>\n",
       "      <th>CA</th>\n",
       "      <td>8</td>\n",
       "      <td>24</td>\n",
       "      <td>67</td>\n",
       "    </tr>\n",
       "    <tr>\n",
       "      <th>NY</th>\n",
       "      <td>87</td>\n",
       "      <td>79</td>\n",
       "      <td>48</td>\n",
       "    </tr>\n",
       "    <tr>\n",
       "      <th>AZ</th>\n",
       "      <td>10</td>\n",
       "      <td>94</td>\n",
       "      <td>52</td>\n",
       "    </tr>\n",
       "    <tr>\n",
       "      <th>TX</th>\n",
       "      <td>98</td>\n",
       "      <td>53</td>\n",
       "      <td>66</td>\n",
       "    </tr>\n",
       "  </tbody>\n",
       "</table>\n",
       "</div>"
      ],
      "text/plain": [
       "    Jan  Feb  Mar\n",
       "CA    8   24   67\n",
       "NY   87   79   48\n",
       "AZ   10   94   52\n",
       "TX   98   53   66"
      ]
     },
     "execution_count": 10,
     "metadata": {},
     "output_type": "execute_result"
    }
   ],
   "source": [
    "my_row_index = ['CA', 'NY', 'AZ', 'TX']\n",
    "my_col_index = ['Jan', 'Feb', 'Mar']\n",
    "full_index = pd.DataFrame(my_data, index=my_row_index, columns=my_col_index)\n",
    "full_index"
   ]
  },
  {
   "cell_type": "code",
   "execution_count": 43,
   "id": "6bc2315c-5d79-43b9-a0ff-1c5cc41ba02e",
   "metadata": {},
   "outputs": [
    {
     "name": "stdout",
     "output_type": "stream",
     "text": [
      "\n",
      "    a   b   c   d\n",
      "0   0   1   2   3\n",
      "1   4   5   6   7\n",
      "2   8   9  10  11\n",
      "3  12  13  14  15\n",
      "\n",
      "columns Index(['a', 'b', 'c', 'd'], dtype='object')\n",
      "\n",
      "rows [0, 1, 2, 3]\n",
      "\n",
      "   a  b  c  d\n",
      "0  0  1  2  3\n",
      "1  4  5  6  7\n",
      "\n",
      "    a   b   c   d\n",
      "3  12  13  14  15\n",
      "\n",
      "<class 'pandas.core.frame.DataFrame'>\n",
      "RangeIndex: 4 entries, 0 to 3\n",
      "Data columns (total 4 columns):\n",
      " #   Column  Non-Null Count  Dtype\n",
      "---  ------  --------------  -----\n",
      " 0   a       4 non-null      int64\n",
      " 1   b       4 non-null      int64\n",
      " 2   c       4 non-null      int64\n",
      " 3   d       4 non-null      int64\n",
      "dtypes: int64(4)\n",
      "memory usage: 260.0 bytes\n",
      "None\n",
      "\n",
      "               a          b          c          d\n",
      "count   4.000000   4.000000   4.000000   4.000000\n",
      "mean    6.000000   7.000000   8.000000   9.000000\n",
      "std     5.163978   5.163978   5.163978   5.163978\n",
      "min     0.000000   1.000000   2.000000   3.000000\n",
      "25%     3.000000   4.000000   5.000000   6.000000\n",
      "50%     6.000000   7.000000   8.000000   9.000000\n",
      "75%     9.000000  10.000000  11.000000  12.000000\n",
      "max    12.000000  13.000000  14.000000  15.000000\n"
     ]
    }
   ],
   "source": [
    "csv_df = pd.read_csv(r\"example.csv\")\n",
    "print()\n",
    "print(csv_df)\n",
    "print()\n",
    "print('columns', csv_df.columns)  # header of columns\n",
    "print()\n",
    "print('rows', list(csv_df.index))  # list of row index\n",
    "print()\n",
    "print(csv_df.head(2))\n",
    "print()\n",
    "print(csv_df.tail(1))\n",
    "print()\n",
    "print(csv_df.info())\n",
    "print()\n",
    "print(csv_df.describe())"
   ]
  },
  {
   "cell_type": "code",
   "execution_count": 39,
   "id": "e3c7e0d6-09bb-40a4-9873-2d1a41f2ba97",
   "metadata": {},
   "outputs": [
    {
     "name": "stdout",
     "output_type": "stream",
     "text": [
      "               a          b          c          d\n",
      "count   4.000000   4.000000   4.000000   4.000000\n",
      "mean    6.000000   7.000000   8.000000   9.000000\n",
      "std     5.163978   5.163978   5.163978   5.163978\n",
      "min     0.000000   1.000000   2.000000   3.000000\n",
      "25%     3.000000   4.000000   5.000000   6.000000\n",
      "50%     6.000000   7.000000   8.000000   9.000000\n",
      "75%     9.000000  10.000000  11.000000  12.000000\n",
      "max    12.000000  13.000000  14.000000  15.000000\n"
     ]
    }
   ],
   "source": [
    "csv_df = pd.read_csv(r\"example.csv\")\n",
    "print(csv_df.describe())"
   ]
  },
  {
   "cell_type": "code",
   "execution_count": 44,
   "id": "fb9383aa-b54c-483e-b528-7e881cf44215",
   "metadata": {},
   "outputs": [
    {
     "name": "stdout",
     "output_type": "stream",
     "text": [
      "   count  mean       std  min  25%  50%   75%   max\n",
      "a    4.0   6.0  5.163978  0.0  3.0  6.0   9.0  12.0\n",
      "b    4.0   7.0  5.163978  1.0  4.0  7.0  10.0  13.0\n",
      "c    4.0   8.0  5.163978  2.0  5.0  8.0  11.0  14.0\n",
      "d    4.0   9.0  5.163978  3.0  6.0  9.0  12.0  15.0\n"
     ]
    }
   ],
   "source": [
    "csv_df = pd.read_csv(r\"example.csv\")\n",
    "print(csv_df.describe().transpose())"
   ]
  },
  {
   "cell_type": "code",
   "execution_count": 76,
   "id": "baae153f-69e8-4fd9-99f8-78bcee04c9dc",
   "metadata": {},
   "outputs": [
    {
     "name": "stdout",
     "output_type": "stream",
     "text": [
      "    a   b   c   d\n",
      "0   0   1   2   3\n",
      "1   4   5   6   7\n",
      "2   8   9  10  11\n",
      "3  12  13  14  15\n",
      "\n",
      "[0, 4, 8, 12]\n",
      "0     1\n",
      "1     9\n",
      "2    17\n",
      "3    25\n",
      "dtype: int64\n",
      "0     1\n",
      "1     9\n",
      "2    17\n",
      "3    25\n",
      "dtype: int64\n",
      "    a   b\n",
      "0   0   1\n",
      "1   4   5\n",
      "2   8   9\n",
      "3  12  13\n",
      "\n",
      "    a   b   c   d  sumab  mulab       div\n",
      "0   0   1   2   3      1      0  0.000000\n",
      "1   4   5   6   7      9     20  0.800000\n",
      "2   8   9  10  11     17     72  0.888889\n",
      "3  12  13  14  15     25    156  0.923077\n",
      "\n",
      "    a   b   c   d  sumab  mulab\n",
      "1   4   5   6   7      9     20\n",
      "2   8   9  10  11     17     72\n",
      "3  12  13  14  15     25    156\n"
     ]
    },
    {
     "data": {
      "text/html": [
       "<div>\n",
       "<style scoped>\n",
       "    .dataframe tbody tr th:only-of-type {\n",
       "        vertical-align: middle;\n",
       "    }\n",
       "\n",
       "    .dataframe tbody tr th {\n",
       "        vertical-align: top;\n",
       "    }\n",
       "\n",
       "    .dataframe thead th {\n",
       "        text-align: right;\n",
       "    }\n",
       "</style>\n",
       "<table border=\"1\" class=\"dataframe\">\n",
       "  <thead>\n",
       "    <tr style=\"text-align: right;\">\n",
       "      <th></th>\n",
       "      <th>a</th>\n",
       "      <th>b</th>\n",
       "      <th>c</th>\n",
       "      <th>d</th>\n",
       "      <th>sumab</th>\n",
       "      <th>mulab</th>\n",
       "    </tr>\n",
       "  </thead>\n",
       "  <tbody>\n",
       "    <tr>\n",
       "      <th>1</th>\n",
       "      <td>4</td>\n",
       "      <td>5</td>\n",
       "      <td>NaN</td>\n",
       "      <td>7</td>\n",
       "      <td>9</td>\n",
       "      <td>20</td>\n",
       "    </tr>\n",
       "    <tr>\n",
       "      <th>2</th>\n",
       "      <td>8</td>\n",
       "      <td>9</td>\n",
       "      <td>10.0</td>\n",
       "      <td>11</td>\n",
       "      <td>17</td>\n",
       "      <td>72</td>\n",
       "    </tr>\n",
       "    <tr>\n",
       "      <th>3</th>\n",
       "      <td>12</td>\n",
       "      <td>13</td>\n",
       "      <td>14.0</td>\n",
       "      <td>15</td>\n",
       "      <td>25</td>\n",
       "      <td>156</td>\n",
       "    </tr>\n",
       "  </tbody>\n",
       "</table>\n",
       "</div>"
      ],
      "text/plain": [
       "    a   b     c   d  sumab  mulab\n",
       "1   4   5   NaN   7      9     20\n",
       "2   8   9  10.0  11     17     72\n",
       "3  12  13  14.0  15     25    156"
      ]
     },
     "execution_count": 76,
     "metadata": {},
     "output_type": "execute_result"
    }
   ],
   "source": [
    "csv_df = pd.read_csv(r\"example.csv\")\n",
    "print(csv_df)\n",
    "print()\n",
    "type(csv_df['a'])\n",
    "print(list(csv_df['a']))\n",
    "print(csv_df['a'] + csv_df['b'])\n",
    "print(csv_df['a'].add(csv_df['b'], fill_value=0))\n",
    "print(csv_df[['a', 'b']])\n",
    "csv_df['sumab'] = csv_df['a'] + csv_df['b']\n",
    "csv_df['mulab'] = csv_df['a'] * csv_df['b']\n",
    "csv_df['div'] = csv_df['a'] / csv_df['b']\n",
    "print()\n",
    "print(csv_df)\n",
    "print()\n",
    "csv_df.drop('div', axis=1, inplace=True)  # drop column\n",
    "csv_df.drop(0, axis=0, inplace=True)  # drop row with index 0\n",
    "print(csv_df)\n",
    "csv_df.at[1, 'c'] = None\n",
    "csv_df"
   ]
  }
 ],
 "metadata": {
  "kernelspec": {
   "display_name": "Python 3 (ipykernel)",
   "language": "python",
   "name": "python3"
  },
  "language_info": {
   "codemirror_mode": {
    "name": "ipython",
    "version": 3
   },
   "file_extension": ".py",
   "mimetype": "text/x-python",
   "name": "python",
   "nbconvert_exporter": "python",
   "pygments_lexer": "ipython3",
   "version": "3.11.7"
  }
 },
 "nbformat": 4,
 "nbformat_minor": 5
}
